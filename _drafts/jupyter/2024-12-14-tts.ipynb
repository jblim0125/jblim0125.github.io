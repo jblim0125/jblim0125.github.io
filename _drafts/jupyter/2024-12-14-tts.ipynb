{
 "cells": [
  {
   "cell_type": "code",
   "execution_count": null,
   "metadata": {},
   "outputs": [],
   "source": [
    "## 음성을 텍스트로 변환하기\n",
    "\n",
    "준비를 위해 AI hub `https://www.aihub.or.kr` 에서 Audio 파일을 다운로드 받았다."
   ]
  },
  {
   "cell_type": "code",
   "execution_count": 7,
   "metadata": {},
   "outputs": [
    {
     "name": "stdout",
     "output_type": "stream",
     "text": [
      "Collecting gTTS\n",
      "  Using cached gTTS-2.5.4-py3-none-any.whl.metadata (4.1 kB)\n",
      "Collecting SpeechRecognition\n",
      "  Using cached SpeechRecognition-3.12.0-py3-none-any.whl.metadata (30 kB)\n",
      "Collecting pydub\n",
      "  Using cached pydub-0.25.1-py2.py3-none-any.whl.metadata (1.4 kB)\n",
      "Requirement already satisfied: requests<3,>=2.27 in /opt/conda/lib/python3.11/site-packages (from gTTS) (2.31.0)\n",
      "Requirement already satisfied: click<8.2,>=7.1 in /opt/conda/lib/python3.11/site-packages (from gTTS) (8.1.7)\n",
      "Requirement already satisfied: typing-extensions in /opt/conda/lib/python3.11/site-packages (from SpeechRecognition) (4.8.0)\n",
      "Requirement already satisfied: charset-normalizer<4,>=2 in /opt/conda/lib/python3.11/site-packages (from requests<3,>=2.27->gTTS) (3.3.0)\n",
      "Requirement already satisfied: idna<4,>=2.5 in /opt/conda/lib/python3.11/site-packages (from requests<3,>=2.27->gTTS) (3.4)\n",
      "Requirement already satisfied: urllib3<3,>=1.21.1 in /opt/conda/lib/python3.11/site-packages (from requests<3,>=2.27->gTTS) (2.0.7)\n",
      "Requirement already satisfied: certifi>=2017.4.17 in /opt/conda/lib/python3.11/site-packages (from requests<3,>=2.27->gTTS) (2023.7.22)\n",
      "Using cached gTTS-2.5.4-py3-none-any.whl (29 kB)\n",
      "Using cached SpeechRecognition-3.12.0-py3-none-any.whl (32.8 MB)\n",
      "Using cached pydub-0.25.1-py2.py3-none-any.whl (32 kB)\n",
      "Installing collected packages: pydub, SpeechRecognition, gTTS\n",
      "Successfully installed SpeechRecognition-3.12.0 gTTS-2.5.4 pydub-0.25.1\n"
     ]
    }
   ],
   "source": [
    "# 필요한 라이브러리 설치\n",
    "!pip install gTTS SpeechRecognition pydub"
   ]
  },
  {
   "cell_type": "code",
   "execution_count": 5,
   "metadata": {},
   "outputs": [
    {
     "data": {
      "text/plain": [
       "<_io.BufferedRandom name='/home/jblim/audio/0002.wav'>"
      ]
     },
     "execution_count": 5,
     "metadata": {},
     "output_type": "execute_result"
    }
   ],
   "source": [
    "# SpeechRecognition 라이브러리는 wav 파일만 인식하여 mp3를 wav파일로 변환이 필요\n",
    "\n",
    "import pydub\n",
    "sound = pydub.AudioSegment.from_mp3('/home/jblim/audio/0002.mp3')\n",
    "sound.export('/home/jblim/audio/0002.wav', format=\"wav\")"
   ]
  },
  {
   "cell_type": "code",
   "execution_count": 6,
   "metadata": {},
   "outputs": [
    {
     "ename": "OSError",
     "evalue": "FLAC conversion utility not available - consider installing the FLAC command line application by running `apt-get install flac` or your operating system's equivalent",
     "output_type": "error",
     "traceback": [
      "\u001b[0;31m---------------------------------------------------------------------------\u001b[0m",
      "\u001b[0;31mOSError\u001b[0m                                   Traceback (most recent call last)",
      "Cell \u001b[0;32mIn[6], line 6\u001b[0m\n\u001b[1;32m      4\u001b[0m \u001b[38;5;28;01mwith\u001b[39;00m sr\u001b[38;5;241m.\u001b[39mAudioFile(\u001b[38;5;124m'\u001b[39m\u001b[38;5;124m/home/jblim/audio/0002.wav\u001b[39m\u001b[38;5;124m'\u001b[39m) \u001b[38;5;28;01mas\u001b[39;00m f:\n\u001b[1;32m      5\u001b[0m     audio \u001b[38;5;241m=\u001b[39m r\u001b[38;5;241m.\u001b[39mrecord(f)\n\u001b[0;32m----> 6\u001b[0m \u001b[38;5;28mprint\u001b[39m(\u001b[43mr\u001b[49m\u001b[38;5;241;43m.\u001b[39;49m\u001b[43mrecognize_google\u001b[49m\u001b[43m(\u001b[49m\u001b[43maudio\u001b[49m\u001b[43m,\u001b[49m\u001b[43m \u001b[49m\u001b[43mlanguage\u001b[49m\u001b[38;5;241;43m=\u001b[39;49m\u001b[38;5;124;43m'\u001b[39;49m\u001b[38;5;124;43mko\u001b[39;49m\u001b[38;5;124;43m'\u001b[39;49m\u001b[43m)\u001b[49m)\n",
      "File \u001b[0;32m/opt/conda/lib/python3.11/site-packages/speech_recognition/recognizers/google.py:254\u001b[0m, in \u001b[0;36mrecognize_legacy\u001b[0;34m(recognizer, audio_data, key, language, pfilter, show_all, with_confidence, endpoint)\u001b[0m\n\u001b[1;32m    236\u001b[0m \u001b[38;5;250m\u001b[39m\u001b[38;5;124;03m\"\"\"\u001b[39;00m\n\u001b[1;32m    237\u001b[0m \u001b[38;5;124;03mPerforms speech recognition on ``audio_data`` (an ``AudioData`` instance), using the Google Speech Recognition API.\u001b[39;00m\n\u001b[1;32m    238\u001b[0m \n\u001b[0;32m   (...)\u001b[0m\n\u001b[1;32m    249\u001b[0m \u001b[38;5;124;03mRaises a ``speech_recognition.UnknownValueError`` exception if the speech is unintelligible. Raises a ``speech_recognition.RequestError`` exception if the speech recognition operation failed, if the key isn't valid, or if there is no internet connection.\u001b[39;00m\n\u001b[1;32m    250\u001b[0m \u001b[38;5;124;03m\"\"\"\u001b[39;00m\n\u001b[1;32m    251\u001b[0m request_builder \u001b[38;5;241m=\u001b[39m create_request_builder(\n\u001b[1;32m    252\u001b[0m     endpoint\u001b[38;5;241m=\u001b[39mendpoint, key\u001b[38;5;241m=\u001b[39mkey, language\u001b[38;5;241m=\u001b[39mlanguage, filter_level\u001b[38;5;241m=\u001b[39mpfilter\n\u001b[1;32m    253\u001b[0m )\n\u001b[0;32m--> 254\u001b[0m request \u001b[38;5;241m=\u001b[39m \u001b[43mrequest_builder\u001b[49m\u001b[38;5;241;43m.\u001b[39;49m\u001b[43mbuild\u001b[49m\u001b[43m(\u001b[49m\u001b[43maudio_data\u001b[49m\u001b[43m)\u001b[49m\n\u001b[1;32m    256\u001b[0m response_text \u001b[38;5;241m=\u001b[39m obtain_transcription(\n\u001b[1;32m    257\u001b[0m     request, timeout\u001b[38;5;241m=\u001b[39mrecognizer\u001b[38;5;241m.\u001b[39moperation_timeout\n\u001b[1;32m    258\u001b[0m )\n\u001b[1;32m    260\u001b[0m output_parser \u001b[38;5;241m=\u001b[39m OutputParser(\n\u001b[1;32m    261\u001b[0m     show_all\u001b[38;5;241m=\u001b[39mshow_all, with_confidence\u001b[38;5;241m=\u001b[39mwith_confidence\n\u001b[1;32m    262\u001b[0m )\n",
      "File \u001b[0;32m/opt/conda/lib/python3.11/site-packages/speech_recognition/recognizers/google.py:56\u001b[0m, in \u001b[0;36mRequestBuilder.build\u001b[0;34m(self, audio_data)\u001b[0m\n\u001b[1;32m     54\u001b[0m url \u001b[38;5;241m=\u001b[39m \u001b[38;5;28mself\u001b[39m\u001b[38;5;241m.\u001b[39mbuild_url()\n\u001b[1;32m     55\u001b[0m headers \u001b[38;5;241m=\u001b[39m \u001b[38;5;28mself\u001b[39m\u001b[38;5;241m.\u001b[39mbuild_headers(audio_data)\n\u001b[0;32m---> 56\u001b[0m flac_data \u001b[38;5;241m=\u001b[39m \u001b[38;5;28;43mself\u001b[39;49m\u001b[38;5;241;43m.\u001b[39;49m\u001b[43mbuild_data\u001b[49m\u001b[43m(\u001b[49m\u001b[43maudio_data\u001b[49m\u001b[43m)\u001b[49m\n\u001b[1;32m     57\u001b[0m request \u001b[38;5;241m=\u001b[39m Request(url, data\u001b[38;5;241m=\u001b[39mflac_data, headers\u001b[38;5;241m=\u001b[39mheaders)\n\u001b[1;32m     58\u001b[0m \u001b[38;5;28;01mreturn\u001b[39;00m request\n",
      "File \u001b[0;32m/opt/conda/lib/python3.11/site-packages/speech_recognition/recognizers/google.py:88\u001b[0m, in \u001b[0;36mRequestBuilder.build_data\u001b[0;34m(self, audio_data)\u001b[0m\n\u001b[1;32m     87\u001b[0m \u001b[38;5;28;01mdef\u001b[39;00m \u001b[38;5;21mbuild_data\u001b[39m(\u001b[38;5;28mself\u001b[39m, audio_data: AudioData) \u001b[38;5;241m-\u001b[39m\u001b[38;5;241m>\u001b[39m \u001b[38;5;28mbytes\u001b[39m:\n\u001b[0;32m---> 88\u001b[0m     flac_data \u001b[38;5;241m=\u001b[39m \u001b[43maudio_data\u001b[49m\u001b[38;5;241;43m.\u001b[39;49m\u001b[43mget_flac_data\u001b[49m\u001b[43m(\u001b[49m\n\u001b[1;32m     89\u001b[0m \u001b[43m        \u001b[49m\u001b[43mconvert_rate\u001b[49m\u001b[38;5;241;43m=\u001b[39;49m\u001b[38;5;28;43mself\u001b[39;49m\u001b[38;5;241;43m.\u001b[39;49m\u001b[43mto_convert_rate\u001b[49m\u001b[43m(\u001b[49m\u001b[43maudio_data\u001b[49m\u001b[38;5;241;43m.\u001b[39;49m\u001b[43msample_rate\u001b[49m\u001b[43m)\u001b[49m\u001b[43m,\u001b[49m\n\u001b[1;32m     90\u001b[0m \u001b[43m        \u001b[49m\u001b[43mconvert_width\u001b[49m\u001b[38;5;241;43m=\u001b[39;49m\u001b[38;5;241;43m2\u001b[39;49m\u001b[43m,\u001b[49m\u001b[43m  \u001b[49m\u001b[38;5;66;43;03m# audio samples must be 16-bit\u001b[39;49;00m\n\u001b[1;32m     91\u001b[0m \u001b[43m    \u001b[49m\u001b[43m)\u001b[49m\n\u001b[1;32m     92\u001b[0m     \u001b[38;5;28;01mreturn\u001b[39;00m flac_data\n",
      "File \u001b[0;32m/opt/conda/lib/python3.11/site-packages/speech_recognition/audio.py:232\u001b[0m, in \u001b[0;36mAudioData.get_flac_data\u001b[0;34m(self, convert_rate, convert_width)\u001b[0m\n\u001b[1;32m    230\u001b[0m \u001b[38;5;66;03m# run the FLAC converter with the WAV data to get the FLAC data\u001b[39;00m\n\u001b[1;32m    231\u001b[0m wav_data \u001b[38;5;241m=\u001b[39m \u001b[38;5;28mself\u001b[39m\u001b[38;5;241m.\u001b[39mget_wav_data(convert_rate, convert_width)\n\u001b[0;32m--> 232\u001b[0m flac_converter \u001b[38;5;241m=\u001b[39m \u001b[43mget_flac_converter\u001b[49m\u001b[43m(\u001b[49m\u001b[43m)\u001b[49m\n\u001b[1;32m    233\u001b[0m \u001b[38;5;28;01mif\u001b[39;00m (\n\u001b[1;32m    234\u001b[0m     os\u001b[38;5;241m.\u001b[39mname \u001b[38;5;241m==\u001b[39m \u001b[38;5;124m\"\u001b[39m\u001b[38;5;124mnt\u001b[39m\u001b[38;5;124m\"\u001b[39m\n\u001b[1;32m    235\u001b[0m ):  \u001b[38;5;66;03m# on Windows, specify that the process is to be started without showing a console window\u001b[39;00m\n\u001b[1;32m    236\u001b[0m     startup_info \u001b[38;5;241m=\u001b[39m subprocess\u001b[38;5;241m.\u001b[39mSTARTUPINFO()\n",
      "File \u001b[0;32m/opt/conda/lib/python3.11/site-packages/speech_recognition/audio.py:291\u001b[0m, in \u001b[0;36mget_flac_converter\u001b[0;34m()\u001b[0m\n\u001b[1;32m    289\u001b[0m         flac_converter \u001b[38;5;241m=\u001b[39m os\u001b[38;5;241m.\u001b[39mpath\u001b[38;5;241m.\u001b[39mjoin(base_path, \u001b[38;5;124m\"\u001b[39m\u001b[38;5;124mflac-linux-x86_64\u001b[39m\u001b[38;5;124m\"\u001b[39m)\n\u001b[1;32m    290\u001b[0m     \u001b[38;5;28;01melse\u001b[39;00m:  \u001b[38;5;66;03m# no FLAC converter available\u001b[39;00m\n\u001b[0;32m--> 291\u001b[0m         \u001b[38;5;28;01mraise\u001b[39;00m \u001b[38;5;167;01mOSError\u001b[39;00m(\n\u001b[1;32m    292\u001b[0m             \u001b[38;5;124m\"\u001b[39m\u001b[38;5;124mFLAC conversion utility not available - consider installing the FLAC command line application by running `apt-get install flac` or your operating system\u001b[39m\u001b[38;5;124m'\u001b[39m\u001b[38;5;124ms equivalent\u001b[39m\u001b[38;5;124m\"\u001b[39m\n\u001b[1;32m    293\u001b[0m         )\n\u001b[1;32m    295\u001b[0m \u001b[38;5;66;03m# mark FLAC converter as executable if possible\u001b[39;00m\n\u001b[1;32m    296\u001b[0m \u001b[38;5;28;01mtry\u001b[39;00m:\n\u001b[1;32m    297\u001b[0m     \u001b[38;5;66;03m# handle known issue when running on docker:\u001b[39;00m\n\u001b[1;32m    298\u001b[0m     \u001b[38;5;66;03m# run executable right after chmod() may result in OSError \"Text file busy\"\u001b[39;00m\n\u001b[1;32m    299\u001b[0m     \u001b[38;5;66;03m# fix: flush FS with sync\u001b[39;00m\n",
      "\u001b[0;31mOSError\u001b[0m: FLAC conversion utility not available - consider installing the FLAC command line application by running `apt-get install flac` or your operating system's equivalent"
     ]
    }
   ],
   "source": [
    "# wav 파일을 텍스트로 변환하여 출력\n",
    "import speech_recognition as sr\n",
    "r = sr.Recognizer()\n",
    "with sr.AudioFile('/home/jblim/audio/0002.wav') as f:\n",
    "    audio = r.record(f)\n",
    "print(r.recognize_google(audio, language='ko'))"
   ]
  },
  {
   "cell_type": "code",
   "execution_count": 6,
   "metadata": {},
   "outputs": [
    {
     "name": "stdout",
     "output_type": "stream",
     "text": [
      "Get:1 http://ports.ubuntu.com/ubuntu-ports jammy InRelease [270 kB]\n",
      "Get:2 http://ports.ubuntu.com/ubuntu-ports jammy-updates InRelease [128 kB]\n",
      "Get:3 http://ports.ubuntu.com/ubuntu-ports jammy-backports InRelease [127 kB]\n",
      "Get:4 http://ports.ubuntu.com/ubuntu-ports jammy-security InRelease [129 kB]\n",
      "Get:5 http://ports.ubuntu.com/ubuntu-ports jammy/main arm64 Packages [1,758 kB]\n",
      "Get:6 http://ports.ubuntu.com/ubuntu-ports jammy/multiverse arm64 Packages [224 kB]\n",
      "Get:7 http://ports.ubuntu.com/ubuntu-ports jammy/universe arm64 Packages [17.2 MB]\n",
      "Get:8 http://ports.ubuntu.com/ubuntu-ports jammy/restricted arm64 Packages [24.2 kB]\n",
      "Get:9 http://ports.ubuntu.com/ubuntu-ports jammy-updates/multiverse arm64 Packages [30.6 kB]\n",
      "Get:10 http://ports.ubuntu.com/ubuntu-ports jammy-updates/main arm64 Packages [2,436 kB]\n",
      "Get:11 http://ports.ubuntu.com/ubuntu-ports jammy-updates/universe arm64 Packages [1,465 kB]\n",
      "Get:12 http://ports.ubuntu.com/ubuntu-ports jammy-updates/restricted arm64 Packages [2,771 kB]\n",
      "Get:13 http://ports.ubuntu.com/ubuntu-ports jammy-backports/main arm64 Packages [80.9 kB]\n",
      "Get:14 http://ports.ubuntu.com/ubuntu-ports jammy-backports/universe arm64 Packages [31.8 kB]\n",
      "Get:15 http://ports.ubuntu.com/ubuntu-ports jammy-security/universe arm64 Packages [1,180 kB]\n",
      "Get:16 http://ports.ubuntu.com/ubuntu-ports jammy-security/multiverse arm64 Packages [24.2 kB]\n",
      "Get:17 http://ports.ubuntu.com/ubuntu-ports jammy-security/restricted arm64 Packages [2,656 kB]\n",
      "Get:18 http://ports.ubuntu.com/ubuntu-ports jammy-security/main arm64 Packages [2,156 kB]\n",
      "Fetched 32.7 MB in 14s (2,348 kB/s)                                            \n",
      "Reading package lists... Done\n",
      "Reading package lists... Done\n",
      "Building dependency tree... Done\n",
      "Reading state information... Done\n",
      "The following NEW packages will be installed:\n",
      "  flac\n",
      "0 upgraded, 1 newly installed, 0 to remove and 111 not upgraded.\n",
      "Need to get 129 kB of archives.\n",
      "After this operation, 346 kB of additional disk space will be used.\n",
      "Get:1 http://ports.ubuntu.com/ubuntu-ports jammy-updates/universe arm64 flac arm64 1.3.3-2ubuntu0.2 [129 kB]\n",
      "Fetched 129 kB in 1s (88.0 kB/s)\n",
      "debconf: delaying package configuration, since apt-utils is not installed\n",
      "Selecting previously unselected package flac.\n",
      "(Reading database ... 49687 files and directories currently installed.)\n",
      "Preparing to unpack .../flac_1.3.3-2ubuntu0.2_arm64.deb ...\n",
      "Unpacking flac (1.3.3-2ubuntu0.2) ...\n",
      "Setting up flac (1.3.3-2ubuntu0.2) ...\n"
     ]
    }
   ],
   "source": [
    "!sudo apt-get update\n",
    "!sudo apt-get install flac"
   ]
  },
  {
   "cell_type": "code",
   "execution_count": 8,
   "metadata": {},
   "outputs": [
    {
     "name": "stdout",
     "output_type": "stream",
     "text": [
      "요즘 건강한가요네 건강해요 어디를 다쳤어요 무릎이 까졌어요 언제 다쳤어요 한 일주일 전이요 언제부터 즐겁다고 못 느꼈어요 아빠랑 같이 살 때부터요 최근에 짜증이나 화가 난 적 있어요 아니요 그런 적 없어요 그럼 짜증이나 화가 나면 어떻게 하면 마음이 풀려요 그냥 동생이랑 같이 놀거나 음악 들으면 좀 마음이 편안해요 몇 시에 자고 일어나요 11시에 자서 7시에 일어나요 아침에 일어났을 때 몸 상태는 어때요 그냥 계속 졸려요 아빠가 화 많이내는 표정을 짓는다고 했는데 그런 이유가 있는 것 같아요 그냥 자기가 화나면 저희한테 화풀이 해요 그 표정을 지을 때 기분이 어때요 슬프기도 하고 무섭기도 해요 남동생이 있다고 했는데 사이가 어때요 동생이랑 잘 지내고 있어요 아버지가 동생이랑 차별하는 것 같아요 아니요 딱히 차별하지 않는 거 같아요 친구들이랑은 주로 몇 명이 놀아요 아네 명이서 다섯 명 정도 같이 노는 거 같아요 담임 선생님 좋아해요 싫어해요 담임 선생님 착하고 좋아해요 제가 가장 큰 걱정이 있나요 아빠요 아빠가 걱정되는 이유가 뭐예요 저랑 동생 그만 때렸으면 좋겠어요 요즘 행복하다고 느껴요 아니요 이유가 뭐예요 아빠 때문에요 꿈꾸는 미래가 있을까요 과목 한 가정을 꾸리고 대기업에 취업하고 싶어요 이유가 뭐예요 야 돈도 좀 벌고 가족이랑 사이좋게 지내고 싶어요 아빠가 잘 챙겨 주나요 평소에는 잘 챙겨 줘요 인터넷이나 핸드폰은 하루에 몇 시간 정도 해요 6시간에서 7시간 정도 해서 아빠가 맨날 그만하라고 해요 아빠는 선생님 때문에 슬프거나 화가 난 적이 있어요 아빠가 화내면 좀 슬퍼요 아빠의 어떤 말이나 행동이 슬퍼요 저랑 동생을 계속 때려서 평소에 아빠가 얼마나 자주 때려요 달에 세 번 정도는 그래요 눈에 보이는 걸 막 던지고 아무 곳이나 막 때려요 아빠가 때리시는 이유가 뭐라고 생각해요 그냥 막 갑자기 한숨 쉬시면서 술 드시다가 또 화내고 욕하다가 때리세요 이유는 잘 모르겠어요 아빠한테 맞아서 얼마나 다쳤어요 배 아파서 병원도 갔고 멍도 들고 병원 갔을 때 입원도 했었어요 누가 소중한 부위를 만지거나 보여 달라고 한 적 있어요 아니요 그런 적은 없었어요 집에서 어른들이 소리 지르면서 싸우는 걸 듣거나 본 적 있어요 아빠가 술 먹다가 그냥 혼자 소리 지르고 막 그래요 아빠가 그럴 때 집에 나와서 있어야 했던 적 있어요 아니요 따로 나갔던 적은 없어요 이런 일 때문에 경찰이나 다른 사람이 온 적이 있어요네 신고도 했었어요 그러면 아빠가 좀 당분간 화를 덜 내고 근데 그러다가 또 예전처럼 다시 똑같이 돌아가긴 해요 친구들이 자주 놀리거나 괴롭힌다고 느낀 적 있어요 아니요 어떨 때 마음이 복잡하거나 힘들어요 아빠가 화내면 마음이 좀 슬프고 그래요 그럴 때 괴로워서 죽고 싶다는 생각을 한 적 있어요 아니요 죽으면 동생이 혼자나요 제가 지켜 줘야 해요 잘 때 어떤 꿈을 꿔요 모르겠어요 꿈은 꾸는 거 같은데 기억 안나요 꿈을 꾸고 일어나면 몸 상태는 어때요 그냥 평소랑 똑같이 졸려요 아빠한테 말도 없이 집에서 오랫동안 나온 적 있어요 안녕 그런 적 없었어요\n"
     ]
    }
   ],
   "source": [
    "# wav 파일을 텍스트로 변환하여 출력\n",
    "import speech_recognition as sr\n",
    "r = sr.Recognizer()\n",
    "with sr.AudioFile('/home/jblim/audio/0002.wav') as f:\n",
    "    audio = r.record(f)\n",
    "audio_to_text = r.recognize_google(audio, language='ko')\n",
    "print(audio_to_text)"
   ]
  },
  {
   "cell_type": "code",
   "execution_count": 9,
   "metadata": {},
   "outputs": [
    {
     "name": "stdout",
     "output_type": "stream",
     "text": [
      "Requirement already satisfied: konlpy in /opt/conda/lib/python3.11/site-packages (0.6.0)\n",
      "Requirement already satisfied: JPype1>=0.7.0 in /opt/conda/lib/python3.11/site-packages (from konlpy) (1.5.1)\n",
      "Requirement already satisfied: lxml>=4.1.0 in /opt/conda/lib/python3.11/site-packages (from konlpy) (5.3.0)\n",
      "Requirement already satisfied: numpy>=1.6 in /opt/conda/lib/python3.11/site-packages (from konlpy) (1.24.4)\n",
      "Requirement already satisfied: packaging in /opt/conda/lib/python3.11/site-packages (from JPype1>=0.7.0->konlpy) (23.2)\n",
      "['요즘', '건강', '하', 'ㄴ', '가요', '네', '건강', '하', '아요', '어디', '를', '다치', '었', '어요', '무릎', '이', '까지', '었', '어요', '언제', '다치', '었', '어요', '한', '일주일', '전', '이', '요', '언제', '부터', '즐겁', '다고', '못', '느끼', '었', '어요', '아빠', '랑', '같이', '살', 'ㄹ', '때', '부터', '요', '최근', '에', '짜증', '이나', '화가', '나', 'ㄴ', '적', '있', '어요', '아니', '요', '그런', '적', '없', '어요', '그럼', '짜증', '이나', '화가', '나', '면', '어떻', '게', '하', '면', '마음', '이', '풀리', '어요', '그냥', '동생', '이랑', '같이', '놀', '거나', '음악', '들', '으면', '좀', '마음', '이', '편안', '하', '아요', '몇', '시', '에', '자', '고', '일어나', '요', '11', '시', '에', '자', '아서', '7', '시', '에', '일어나', '요', '아침', '에', '일어나', '았', '을', '때', '몸', '상태', '는', '어떻', '어요', '그냥', '계속', '졸', '려', '요', '아빠', '가', '화', '많이', '내', '는', '표정', '을', '짓', '는다고', '하', '았', '는데', '그런', '이유', '가', '있', '는', '것', '같', '아요', '그냥', '자기', '가', '화나', '면', '저희', '한테', '화풀이', '하', '아요', '그', '표정', '을', '지', '을', '때', '기분', '이', '어떻', '어요', '슬프', '기', '도', '하', '고', '무섭', '기', '도', '하', '아요', '남동생', '이', '있', '다고', '하', '았', '는데', '사이', '가', '어떻', '어요', '동생', '이랑', '잘', '지내', '고', '있', '어요', '아버지', '가', '동생', '이랑', '차별', '하', '는', '것', '같', '아요', '아니', '요', '딱히', '차별', '하', '지', '않', '는', '거', '같', '아요', '친구', '들', '이랑', '은', '주로', '몇', '명', '이', '놀', '아요', '알', '네', '명', '이서', '다섯', '명', '정도', '같이', '놓', '는', '거', '같', '아요', '담임', '선생님', '좋아하', '아요', '싫어하', '아요', '담임', '선생님', '착하', '고', '좋아하', '아요', '제가', '가장', '크', 'ㄴ', '걱정', '이', '있', '나요', '아빠', '요', '아빠', '가', '걱정', '되', '는', '이유', '가', '뭐', '예', '요', '저', '랑', '동생', '그만', '때리', '었', '으면', '좋', '겠', '어요', '요즘', '행복', '하', '다고', '느끼', '어요', '아니', '요', '이유', '가', '뭐', '예', '요', '아빠', '때문', '에', '요', '꿈꾸', '는', '미래', '가', '있', '을까요', '과목', '한', '가정', '을', '꾸리', '고', '대기업', '에', '취업', '하', '고', '싶', '어요', '이유', '가', '뭐', '예', '요', '야', '돈', '도', '좀', '벌', '고', '가족', '이랑', '사이좋', '게', '지내', '고', '싶', '어요', '아빠', '가', '잘', '챙기', '어', '주', '나요', '평소', '에', '는', '잘', '챙기', '어', '주', '어요', '인터넷', '이나', '핸드폰', '은', '하루', '에', '몇', '시간', '정도', '하', '아요', '6', '시간', '에서', '7', '시간', '정도', '하', '아서', '아빠', '가', '맨날', '그만', '하', '라고', '하', '아요', '아빠', '는', '선생님', '때문', '에', '슬프', '거나', '화가', '나', 'ㄴ', '적', '이', '있', '어요', '아빠', '가', '화내', '면', '좀', '슬프', '어요', '아빠', '의', '어떤', '말', '이나', '행동', '이', '슬프', '어요', '저', '랑', '동생', '을', '계속', '때리', '어서', '평소', '에', '아빠', '가', '얼마나', '자주', '때리', '어요', '달', '에', '세', '번', '정도', '는', '그래요', '눈', '에', '보이', '는', '걸', 'ㄹ', '막', '던지', '고', '아무', '곳', '이나', '막', '때리', '어요', '아빠', '가', '때리', '시', '는', '이유', '가', '뭐', '이', '라고', '생각', '하', '아요', '그냥', '막', '갑자기', '한숨', '쉬', '시', '면서', '술', '들', '시', '다가', '또', '화내', '고', '욕', '하', '다가', '때리', '시', '어요', '이유', '는', '잘', '모르', '겠', '어요', '아빠', '한테', '맞', '아서', '얼마나', '다치', '었', '어요', '배', '아파서', '병원', '도', '가', '았', '고', '멍', '도', '들', '고', '병원', '가', '았', '을', '때', '입원', '도', '하', '았었', '어요', '누구', '가', '소중', '하', 'ㄴ', '부위', '를', '만지', '거나', '보이', '어', '달', '라고', '한', '적', '있', '어요', '아니', '요', '그런', '적', '은', '없', '었', '어요', '집', '에서', '어른', '들', '이', '소리', '지르', '면서', '싸우', '는', '걸', 'ㄹ', '듣', '거나', '보', 'ㄴ', '적', '있', '어요', '아빠', '가', '술', '먹', '다가', '그냥', '혼자', '소리', '지르', '고', '막', '그래요', '아빠', '가', '그렇', 'ㄹ', '때', '집', '에', '나오', '아서', '있', '어야', '하', '았', '던', '적', '있', '어요', '아니', '요', '따로', '나가', '았', '던', '적', '은', '없', '어요', '이런', '일', '때문', '에', '경찰', '이나', '다른', '사람', '이', '오', 'ㄴ', '적', '이', '있', '어요', '네', '신고', '도', '하', '았었', '어요', '그러면', '아빠', '가', '좀', '당분간', '화', '를', '덜', '내', '고', '근데', '그러다가', '또', '예전', '처럼', '다시', '똑같이', '돌아가', '기', 'ㄴ', '하', '아요', '친구', '들', '이', '자주', '놀리', '거나', '괴롭히', 'ㄴ다고', '느끼', 'ㄴ', '적', '있', '어요', '아니', '요', '어떻', 'ㄹ', '때', '마음', '이', '복잡', '하', '거나', '힘들', '어요', '아빠', '가', '화내', '면', '마음', '이', '좀', '슬프', '고', '그래요', '그렇', 'ㄹ', '때', '괴롭', '어서', '죽', '고', '싶', '다는', '생각', '을', '한', '적', '있', '어요', '아니', '요', '죽', '으면', '동생', '이', '혼자', '나', '요', '제가', '지키', '어', '주', '어야', '하', '아요', '잘', '때', '어떤', '꿈', '을', '꾸', '어요', '모르', '겠', '어요', '꿈', '은', '꾸', '는', '거', '같', '은데', '기억', '안나', '요', '꿈', '을', '꾸', '고', '일어나', '면', '몸', '상태', '는', '어떻', '어요', '그냥', '평소', '랑', '똑같이', '졸', '려', '요', '아빠', '한테', '말', '도', '없이', '집', '에서', '오랫동안', '나오', 'ㄴ', '적', '있', '어요', '안녕', '그런', '적', '없', '었', '어요']\n",
      "['요즘', '건강', '가요', '건강', '무릎', '일주일', '전', '아빠', '때', '최근', '짜증', '화가', '적', '적', '짜증', '화가', '마음', '동생', '이랑', '음악', '마음', '편안', '시', '시', '시', '아침', '때', '몸', '상태', '아빠', '화', '표정', '이유', '것', '화풀이', '표정', '때', '기분', '남동생', '사이', '동생', '이랑', '아버지', '동생', '이랑', '차별', '것', '차별', '거', '친구', '명', '명', '이서', '명', '정도', '거', '담임', '선생님', '담임', '선생님', '제가', '걱정', '아빠', '아빠', '걱정', '이유', '예', '동생', '요즘', '행복', '이유', '예', '아빠', '때문', '미래', '과목', '가정', '대기업', '취업', '이유', '예', '돈', '가족', '이랑', '아빠', '평소', '인터넷', '핸드폰', '하루', '시간', '정도', '시간', '시간', '정도', '아빠', '아빠', '선생님', '때문', '화가', '적', '아빠', '아빠', '말', '행동', '동생', '평소', '아빠', '달', '번', '정도', '눈', '곳', '아빠', '이유', '생각', '한숨', '술', '욕', '이유', '아빠', '배', '아파서', '병원', '멍', '병원', '때', '입원', '부위', '적', '집', '어른', '소리', '적', '아빠', '술', '혼자', '소리', '아빠', '때', '집', '적', '일', '때문', '경찰', '사람', '적', '신고', '아빠', '화', '예전', '친구', '적', '때', '마음', '아빠', '마음', '때', '생각', '적', '동생', '혼자', '요', '제가', '때', '꿈', '꿈', '거', '기억', '안나', '꿈', '몸', '상태', '평소', '아빠', '말', '집', '오랫동안', '적', '안녕', '적']\n"
     ]
    }
   ],
   "source": [
    "import os\n",
    "\n",
    "os.environ['JAVA_HOME'] = \"/home/jblim/jdk-17.0.13+11\"\n",
    "\n",
    "# 텍스트 데이터의 토큰화\n",
    "!JAVA_HOME=/home/jblim/jdk-17.0.13+11 && PATH=$PATH:$JAVA_HOME/bin && pip install konlpy\n",
    "\n",
    "# 형태소 단위 토큰화\n",
    "import konlpy\n",
    "komoran = konlpy.tag.Komoran()\n",
    "print(komoran.morphs(audio_to_text))\n",
    "print(komoran.nouns(audio_to_text))"
   ]
  },
  {
   "cell_type": "code",
   "execution_count": 12,
   "metadata": {},
   "outputs": [
    {
     "name": "stdout",
     "output_type": "stream",
     "text": [
      "Requirement already satisfied: sentencepiece in /opt/conda/lib/python3.11/site-packages (0.2.0)\n",
      "--2024-12-14 07:42:39--  https://github.com/byungjooyoo/Dataset/raw/main/kowiki_32000.model\n",
      "Resolving github.com (github.com)... 20.200.245.247\n",
      "Connecting to github.com (github.com)|20.200.245.247|:443... connected.\n",
      "HTTP request sent, awaiting response... 302 Found\n",
      "Location: https://raw.githubusercontent.com/byungjooyoo/Dataset/main/kowiki_32000.model [following]\n",
      "--2024-12-14 07:42:39--  https://raw.githubusercontent.com/byungjooyoo/Dataset/main/kowiki_32000.model\n",
      "Resolving raw.githubusercontent.com (raw.githubusercontent.com)... 185.199.111.133, 185.199.108.133, 185.199.109.133, ...\n",
      "Connecting to raw.githubusercontent.com (raw.githubusercontent.com)|185.199.111.133|:443... connected.\n",
      "HTTP request sent, awaiting response... 200 OK\n",
      "Length: 814744 (796K) [application/octet-stream]\n",
      "Saving to: ‘kowiki_32000.model.1’\n",
      "\n",
      "kowiki_32000.model. 100%[===================>] 795.65K  1.33MB/s    in 0.6s    \n",
      "\n",
      "2024-12-14 07:42:41 (1.33 MB/s) - ‘kowiki_32000.model.1’ saved [814744/814744]\n",
      "\n",
      "['▁요즘', '▁건강', '한', '가', '요', '네', '▁건강', '해', '요', '▁어디', '를', '▁다', '쳤', '어요', '▁무릎', '이', '▁까', '졌', '어요', '▁언제', '▁다', '쳤', '어요', '▁한', '▁일주일', '▁전', '이', '요', '▁언제', '부터', '▁즐겁', '다고', '▁못', '▁느', '꼈', '어요', '▁아빠', '랑', '▁같이', '▁살', '▁때부터', '요', '▁최근에', '▁짜', '증', '이나', '▁화가', '▁난', '▁적', '▁있어', '요', '▁아니', '요', '▁그런', '▁적', '▁없어', '요', '▁그', '럼', '▁짜', '증', '이나', '▁화가', '▁나', '면', '▁어떻게', '▁하면', '▁마음이', '▁풀려', '요', '▁그', '냥', '▁동생', '이', '랑', '▁같이', '▁놀', '거나', '▁음악', '▁들', '으면', '▁좀', '▁마음이', '▁편안', '해', '요', '▁몇', '▁시에', '▁자', '고', '▁일어나', '요', '▁11', '시에', '▁자', '서', '▁7', '시에', '▁일어나', '요', '▁아침에', '▁일어났', '을', '▁때', '▁몸', '▁상태', '는', '▁어', '때', '요', '▁그', '냥', '▁계속', '▁졸', '려', '요', '▁아빠', '가', '▁화', '▁많이', '내는', '▁표정', '을', '▁짓는다', '고', '▁했는데', '▁그런', '▁이유', '가', '▁있는', '▁것', '▁같아', '요', '▁그', '냥', '▁자기', '가', '▁화', '나', '면', '▁저', '희', '한테', '▁화', '풀', '이', '▁해', '요', '▁그', '▁표정', '을', '▁지', '을', '▁때', '▁기분', '이', '▁어', '때', '요', '▁슬', '프', '기도', '▁하고', '▁무', '섭', '기도', '▁해', '요', '▁남동생', '이', '▁있다고', '▁했는데', '▁사이가', '▁어', '때', '요', '▁동생', '이', '랑', '▁잘', '▁지내고', '▁있어', '요', '▁아버지', '가', '▁동생', '이', '랑', '▁차별', '하는', '▁것', '▁같아', '요', '▁아니', '요', '▁딱', '히', '▁차별', '하지', '▁않는', '▁거', '▁같아', '요', '▁친구들', '이', '랑', '은', '▁주로', '▁몇', '▁명이', '▁놀', '아', '요', '▁아', '네', '▁명이', '서', '▁다섯', '▁명', '▁정도', '▁같이', '▁노', '는', '▁거', '▁같아', '요', '▁담임', '▁선생님', '▁좋아', '해', '요', '▁싫어', '해', '요', '▁담임', '▁선생님', '▁착', '하고', '▁좋아', '해', '요', '▁제', '가', '▁가장', '▁큰', '▁걱정', '이', '▁있', '나', '요', '▁아빠', '요', '▁아빠', '가', '▁걱정', '되는', '▁이유', '가', '▁뭐', '예', '요', '▁저', '랑', '▁동생', '▁그', '만', '▁때', '렸', '으면', '▁좋', '겠', '어요', '▁요즘', '▁행복', '하다고', '▁느껴', '요', '▁아니', '요', '▁이유', '가', '▁뭐', '예', '요', '▁아빠', '▁때문에', '요', '▁꿈꾸', '는', '▁미래', '가', '▁있을까', '요', '▁과목', '▁한', '▁가정', '을', '▁꾸', '리고', '▁대기업', '에', '▁취업', '하고', '▁싶어', '요', '▁이유', '가', '▁뭐', '예', '요', '▁야', '▁돈', '도', '▁좀', '▁벌', '고', '▁가족이', '랑', '▁사이', '좋', '게', '▁지내고', '▁싶어', '요', '▁아빠', '가', '▁잘', '▁', '챙', '겨', '▁주', '나', '요', '▁평소에', '는', '▁잘', '▁', '챙', '겨', '▁', '줘', '요', '▁인터넷', '이나', '▁핸드폰', '은', '▁하루에', '▁몇', '▁시간', '▁정도', '▁해', '요', '▁6', '시간', '에서', '▁7', '시간', '▁정도', '▁해서', '▁아빠', '가', '▁맨', '날', '▁그', '만', '하라고', '▁해', '요', '▁아빠', '는', '▁선생님', '▁때문에', '▁슬', '프', '거나', '▁화가', '▁난', '▁적이', '▁있어', '요', '▁아빠', '가', '▁화', '내면', '▁좀', '▁슬퍼', '요', '▁아빠', '의', '▁어떤', '▁말', '이나', '▁행동', '이', '▁슬퍼', '요', '▁저', '랑', '▁동생', '을', '▁계속', '▁때', '려서', '▁평소에', '▁아빠', '가', '▁얼마', '나', '▁자주', '▁때', '려', '요', '▁달', '에', '▁세', '▁번', '▁정도', '는', '▁그래', '요', '▁눈에', '▁보이는', '▁걸', '▁막', '▁던지', '고', '▁아무', '▁곳', '이나', '▁막', '▁때', '려', '요', '▁아빠', '가', '▁때', '리', '시', '는', '▁이유', '가', '▁뭐', '라고', '▁생각해', '요', '▁그', '냥', '▁막', '▁갑자기', '▁한', '숨', '▁쉬', '시', '면서', '▁술', '▁드', '시', '다가', '▁또', '▁화', '내고', '▁욕', '하다가', '▁때', '리', '세요', '▁이유는', '▁잘', '▁모르', '겠', '어요', '▁아빠', '한테', '▁맞아', '서', '▁얼마', '나', '▁다', '쳤', '어요', '▁배', '▁아파', '서', '▁병원', '도', '▁갔고', '▁멍', '도', '▁들고', '▁병원', '▁갔', '을', '▁때', '▁입원', '도', '▁', '했', '었', '어요', '▁누가', '▁소중', '한', '▁부위', '를', '▁만', '지', '거나', '▁보여', '▁달라고', '▁한', '▁적', '▁있어', '요', '▁아니', '요', '▁그런', '▁적은', '▁없', '었', '어요', '▁집에서', '▁어른', '들이', '▁소리', '▁지르', '면서', '▁싸우', '는', '▁걸', '▁', '듣', '거나', '▁본', '▁적', '▁있어', '요', '▁아빠', '가', '▁술', '▁먹', '다가', '▁그', '냥', '▁혼자', '▁소리', '▁지르', '고', '▁막', '▁그래', '요', '▁아빠', '가', '▁그럴', '▁때', '▁집에', '▁나와서', '▁있어야', '▁했던', '▁적', '▁있어', '요', '▁아니', '요', '▁따로', '▁나갔', '던', '▁적은', '▁없어', '요', '▁이런', '▁일', '▁때문에', '▁경찰', '이나', '▁다른', '▁사람이', '▁온', '▁적이', '▁있어', '요', '네', '▁신고', '도', '▁', '했', '었', '어요', '▁그러면', '▁아빠', '가', '▁좀', '▁당분간', '▁화', '를', '▁덜', '▁내고', '▁근', '데', '▁그러다', '가', '▁또', '▁예전', '처럼', '▁다시', '▁똑같', '이', '▁돌아가', '긴', '▁해', '요', '▁친구들', '이', '▁자주', '▁놀', '리', '거나', '▁괴롭', '힌다', '고', '▁느낀', '▁적', '▁있어', '요', '▁아니', '요', '▁어', '떨', '▁때', '▁마음이', '▁복잡', '하거나', '▁힘들어', '요', '▁아빠', '가', '▁화', '내면', '▁마음이', '▁좀', '▁슬', '프', '고', '▁그래', '요', '▁그럴', '▁때', '▁괴로워', '서', '▁죽고', '▁싶다', '는', '▁생각', '을', '▁한', '▁적', '▁있어', '요', '▁아니', '요', '▁죽으면', '▁동생', '이', '▁혼자', '나', '요', '▁제', '가', '▁지켜', '▁', '줘야', '▁해', '요', '▁잘', '▁때', '▁어떤', '▁꿈을', '▁', '꿔', '요', '▁모르', '겠', '어요', '▁꿈', '은', '▁꾸', '는', '▁거', '▁같은', '데', '▁기억', '▁안나', '요', '▁꿈을', '▁꾸', '고', '▁일어나', '면', '▁몸', '▁상태', '는', '▁어', '때', '요', '▁그', '냥', '▁평소', '랑', '▁똑같', '이', '▁졸', '려', '요', '▁아빠', '한테', '▁말', '도', '▁없이', '▁집에서', '▁오랫동안', '▁나온', '▁적', '▁있어', '요', '▁안녕', '▁그런', '▁적', '▁없', '었', '어요']\n"
     ]
    }
   ],
   "source": [
    "# 기존에 만들어진 단어사전 활용\n",
    "!pip install sentencepiece\n",
    "\n",
    "import sentencepiece as spm\n",
    "!wget https://github.com/byungjooyoo/Dataset/raw/main/kowiki_32000.model\n",
    "sp = spm.SentencePieceProcessor(\"kowiki_32000.model\")\n",
    "print(sp.encode_as_pieces(audio_to_text))"
   ]
  },
  {
   "cell_type": "code",
   "execution_count": 13,
   "metadata": {},
   "outputs": [
    {
     "name": "stdout",
     "output_type": "stream",
     "text": [
      "[20316, 2569, 33, 19, 489, 367, 2569, 61, 489, 11244, 15, 309, 15892, 18147, 5672, 20, 11383, 10558, 18147, 11265, 309, 15892, 18147, 62, 18476, 110, 20, 489, 11265, 313, 26973, 2851, 1256, 9114, 31906, 18147, 18962, 824, 392, 1015, 3005, 489, 8210, 6058, 888, 150, 4430, 767, 793, 499, 489, 2077, 489, 2943, 793, 2909, 489, 34, 4820, 6058, 888, 150, 4430, 342, 120, 2747, 3368, 11523, 26903, 489, 34, 4906, 2371, 20, 824, 392, 5231, 839, 533, 1284, 3406, 3303, 11523, 14514, 61, 489, 758, 1709, 415, 37, 3528, 489, 108, 1852, 415, 71, 77, 1852, 3528, 489, 13962, 10105, 11, 94, 1238, 979, 12, 540, 1492, 489, 34, 4906, 612, 5852, 781, 489, 18962, 19, 743, 518, 8568, 17334, 11, 26802, 37, 6726, 2943, 1722, 19, 43, 449, 14390, 489, 34, 4906, 932, 19, 743, 57, 120, 1016, 698, 10135, 743, 2914, 20, 209, 489, 34, 17334, 11, 298, 11, 94, 16527, 20, 540, 1492, 489, 6382, 344, 706, 380, 409, 3223, 706, 209, 489, 11865, 20, 1009, 6726, 9952, 540, 1492, 489, 2371, 20, 824, 422, 7185, 499, 489, 505, 19, 2371, 20, 824, 4556, 42, 449, 14390, 489, 2077, 489, 13747, 127, 4556, 205, 704, 1140, 14390, 489, 8101, 20, 824, 18, 436, 758, 3400, 5231, 136, 489, 203, 367, 3400, 71, 2444, 460, 534, 392, 483, 12, 1140, 14390, 489, 26088, 14024, 3094, 61, 489, 10229, 61, 489, 26088, 14024, 5656, 48, 3094, 61, 489, 46, 19, 152, 227, 10454, 20, 6745, 57, 489, 18962, 489, 18962, 19, 10454, 323, 1722, 19, 21432, 727, 489, 1016, 824, 2371, 34, 59, 94, 31996, 3406, 9554, 8423, 18147, 20316, 7694, 4783, 16933, 489, 2077, 489, 1722, 19, 21432, 727, 489, 18962, 135, 489, 18432, 12, 4476, 19, 21377, 489, 11561, 62, 1884, 11, 5075, 7138, 12491, 14, 13869, 48, 7792, 489, 1722, 19, 21432, 727, 489, 1062, 2345, 32, 3303, 1734, 37, 17479, 824, 1285, 19969, 88, 7185, 7792, 489, 18962, 19, 422, 10, 31878, 2661, 126, 57, 489, 20522, 12, 422, 10, 31878, 2661, 10, 14682, 489, 1446, 150, 29616, 18, 11810, 758, 1031, 534, 209, 489, 63, 978, 23, 77, 978, 534, 3254, 18962, 19, 3162, 1151, 34, 59, 6059, 209, 489, 18962, 12, 14024, 135, 6382, 344, 839, 4430, 767, 1937, 499, 489, 18962, 19, 743, 15555, 3303, 22975, 489, 18962, 8, 835, 236, 150, 1283, 20, 22975, 489, 1016, 824, 2371, 11, 612, 94, 14659, 20522, 18962, 19, 1926, 57, 1428, 94, 781, 489, 676, 14, 229, 490, 534, 12, 14254, 489, 5000, 2560, 1725, 1938, 13052, 37, 2139, 1070, 150, 1938, 94, 781, 489, 18962, 19, 94, 97, 56, 12, 1722, 19, 21432, 143, 12379, 489, 34, 4906, 1938, 4732, 62, 19559, 3916, 56, 479, 3088, 976, 56, 1476, 346, 743, 9562, 8936, 2052, 94, 97, 17092, 3098, 422, 6331, 8423, 18147, 18962, 10135, 3759, 71, 1926, 57, 309, 15892, 18147, 618, 23778, 71, 3843, 32, 21375, 19097, 32, 4480, 3843, 10251, 11, 94, 8803, 32, 10, 5614, 32005, 18147, 15139, 18746, 33, 8400, 15, 577, 45, 839, 4149, 12854, 62, 793, 499, 489, 2077, 489, 2943, 2594, 5647, 32005, 18147, 6942, 12924, 148, 2257, 17907, 479, 4103, 12, 1725, 10, 31967, 839, 593, 793, 499, 489, 18962, 19, 3088, 3980, 1476, 34, 4906, 8185, 2257, 17907, 37, 1938, 14254, 489, 18962, 19, 19113, 94, 6453, 20992, 7171, 3476, 793, 499, 489, 2077, 489, 4231, 23780, 247, 2594, 2909, 489, 1116, 288, 135, 1579, 150, 91, 1316, 911, 1937, 499, 489, 367, 6242, 32, 10, 5614, 32005, 18147, 19450, 18962, 19, 3303, 29088, 743, 15, 5224, 10279, 2079, 377, 7396, 19, 346, 6888, 571, 193, 11946, 20, 2550, 1915, 209, 489, 8101, 20, 1428, 5231, 97, 839, 26831, 23327, 37, 11075, 793, 499, 489, 2077, 489, 540, 23854, 94, 11523, 6118, 1125, 21624, 489, 18962, 19, 743, 15555, 11523, 3303, 6382, 344, 37, 14254, 489, 19113, 94, 28284, 71, 5961, 7628, 12, 1025, 11, 62, 793, 499, 489, 2077, 489, 26281, 2371, 20, 8185, 57, 489, 46, 19, 7472, 10, 26608, 209, 489, 422, 94, 835, 9391, 10, 31929, 489, 6331, 8423, 18147, 4603, 18, 5075, 12, 1140, 93, 377, 2975, 8082, 489, 9391, 5075, 37, 3528, 120, 1238, 979, 12, 540, 1492, 489, 34, 4906, 10137, 824, 11946, 20, 5852, 781, 489, 18962, 10135, 236, 32, 1036, 6942, 3709, 2636, 793, 499, 489, 17373, 2943, 793, 5647, 32005, 18147]\n",
      "요즘 건강한가요네 건강해요 어디를 다쳤어요 무릎이 까졌어요 언제 다쳤어요 한 일주일 전이요 언제부터 즐겁다고 못 느꼈어요 아빠랑 같이 살 때부터요 최근에 짜증이나 화가 난 적 있어요 아니요 그런 적 없어요 그럼 짜증이나 화가 나면 어떻게 하면 마음이 풀려요 그냥 동생이랑 같이 놀거나 음악 들으면 좀 마음이 편안해요 몇 시에 자고 일어나요 11시에 자서 7시에 일어나요 아침에 일어났을 때 몸 상태는 어때요 그냥 계속 졸려요 아빠가 화 많이내는 표정을 짓는다고 했는데 그런 이유가 있는 것 같아요 그냥 자기가 화나면 저희한테 화풀이 해요 그 표정을 지을 때 기분이 어때요 슬프기도 하고 무섭기도 해요 남동생이 있다고 했는데 사이가 어때요 동생이랑 잘 지내고 있어요 아버지가 동생이랑 차별하는 것 같아요 아니요 딱히 차별하지 않는 거 같아요 친구들이랑은 주로 몇 명이 놀아요 아네 명이서 다섯 명 정도 같이 노는 거 같아요 담임 선생님 좋아해요 싫어해요 담임 선생님 착하고 좋아해요 제가 가장 큰 걱정이 있나요 아빠요 아빠가 걱정되는 이유가 뭐예요 저랑 동생 그만 때렸으면 좋겠어요 요즘 행복하다고 느껴요 아니요 이유가 뭐예요 아빠 때문에요 꿈꾸는 미래가 있을까요 과목 한 가정을 꾸리고 대기업에 취업하고 싶어요 이유가 뭐예요 야 돈도 좀 벌고 가족이랑 사이좋게 지내고 싶어요 아빠가 잘 챙겨 주나요 평소에는 잘 챙겨 줘요 인터넷이나 핸드폰은 하루에 몇 시간 정도 해요 6시간에서 7시간 정도 해서 아빠가 맨날 그만하라고 해요 아빠는 선생님 때문에 슬프거나 화가 난 적이 있어요 아빠가 화내면 좀 슬퍼요 아빠의 어떤 말이나 행동이 슬퍼요 저랑 동생을 계속 때려서 평소에 아빠가 얼마나 자주 때려요 달에 세 번 정도는 그래요 눈에 보이는 걸 막 던지고 아무 곳이나 막 때려요 아빠가 때리시는 이유가 뭐라고 생각해요 그냥 막 갑자기 한숨 쉬시면서 술 드시다가 또 화내고 욕하다가 때리세요 이유는 잘 모르겠어요 아빠한테 맞아서 얼마나 다쳤어요 배 아파서 병원도 갔고 멍도 들고 병원 갔을 때 입원도 했었어요 누가 소중한 부위를 만지거나 보여 달라고 한 적 있어요 아니요 그런 적은 없었어요 집에서 어른들이 소리 지르면서 싸우는 걸 듣거나 본 적 있어요 아빠가 술 먹다가 그냥 혼자 소리 지르고 막 그래요 아빠가 그럴 때 집에 나와서 있어야 했던 적 있어요 아니요 따로 나갔던 적은 없어요 이런 일 때문에 경찰이나 다른 사람이 온 적이 있어요네 신고도 했었어요 그러면 아빠가 좀 당분간 화를 덜 내고 근데 그러다가 또 예전처럼 다시 똑같이 돌아가긴 해요 친구들이 자주 놀리거나 괴롭힌다고 느낀 적 있어요 아니요 어떨 때 마음이 복잡하거나 힘들어요 아빠가 화내면 마음이 좀 슬프고 그래요 그럴 때 괴로워서 죽고 싶다는 생각을 한 적 있어요 아니요 죽으면 동생이 혼자나요 제가 지켜 줘야 해요 잘 때 어떤 꿈을 꿔요 모르겠어요 꿈은 꾸는 거 같은데 기억 안나요 꿈을 꾸고 일어나면 몸 상태는 어때요 그냥 평소랑 똑같이 졸려요 아빠한테 말도 없이 집에서 오랫동안 나온 적 있어요 안녕 그런 적 없었어요\n"
     ]
    }
   ],
   "source": [
    "# 단어사전의 아이디로 수치화, 수치화된 것을 본래의 문장으로 복원\n",
    "print(sp.encode(audio_to_text))\n",
    "print(sp.decode_pieces(sp.encode(audio_to_text)))"
   ]
  },
  {
   "cell_type": "code",
   "execution_count": 14,
   "metadata": {},
   "outputs": [
    {
     "name": "stdout",
     "output_type": "stream",
     "text": [
      "Collecting transformers\n",
      "  Downloading transformers-4.47.0-py3-none-any.whl.metadata (43 kB)\n",
      "\u001b[2K     \u001b[90m━━━━━━━━━━━━━━━━━━━━━━━━━━━━━━━━━━━━━━━━\u001b[0m \u001b[32m43.5/43.5 kB\u001b[0m \u001b[31m3.5 MB/s\u001b[0m eta \u001b[36m0:00:00\u001b[0m\n",
      "\u001b[?25hCollecting filelock (from transformers)\n",
      "  Using cached filelock-3.16.1-py3-none-any.whl.metadata (2.9 kB)\n",
      "Collecting huggingface-hub<1.0,>=0.24.0 (from transformers)\n",
      "  Downloading huggingface_hub-0.26.5-py3-none-any.whl.metadata (13 kB)\n",
      "Requirement already satisfied: numpy>=1.17 in /opt/conda/lib/python3.11/site-packages (from transformers) (1.24.4)\n",
      "Requirement already satisfied: packaging>=20.0 in /opt/conda/lib/python3.11/site-packages (from transformers) (23.2)\n",
      "Requirement already satisfied: pyyaml>=5.1 in /opt/conda/lib/python3.11/site-packages (from transformers) (6.0.1)\n",
      "Collecting regex!=2019.12.17 (from transformers)\n",
      "  Downloading regex-2024.11.6-cp311-cp311-manylinux_2_17_aarch64.manylinux2014_aarch64.whl.metadata (40 kB)\n",
      "\u001b[2K     \u001b[90m━━━━━━━━━━━━━━━━━━━━━━━━━━━━━━━━━━━━━━━━\u001b[0m \u001b[32m40.5/40.5 kB\u001b[0m \u001b[31m7.4 MB/s\u001b[0m eta \u001b[36m0:00:00\u001b[0m\n",
      "\u001b[?25hRequirement already satisfied: requests in /opt/conda/lib/python3.11/site-packages (from transformers) (2.31.0)\n",
      "Collecting tokenizers<0.22,>=0.21 (from transformers)\n",
      "  Downloading tokenizers-0.21.0-cp39-abi3-manylinux_2_17_aarch64.manylinux2014_aarch64.whl.metadata (6.7 kB)\n",
      "Collecting safetensors>=0.4.1 (from transformers)\n",
      "  Using cached safetensors-0.4.5-cp311-cp311-manylinux_2_17_aarch64.manylinux2014_aarch64.whl.metadata (3.8 kB)\n",
      "Requirement already satisfied: tqdm>=4.27 in /opt/conda/lib/python3.11/site-packages (from transformers) (4.66.1)\n",
      "Requirement already satisfied: fsspec>=2023.5.0 in /opt/conda/lib/python3.11/site-packages (from huggingface-hub<1.0,>=0.24.0->transformers) (2023.9.2)\n",
      "Requirement already satisfied: typing-extensions>=3.7.4.3 in /opt/conda/lib/python3.11/site-packages (from huggingface-hub<1.0,>=0.24.0->transformers) (4.8.0)\n",
      "Requirement already satisfied: charset-normalizer<4,>=2 in /opt/conda/lib/python3.11/site-packages (from requests->transformers) (3.3.0)\n",
      "Requirement already satisfied: idna<4,>=2.5 in /opt/conda/lib/python3.11/site-packages (from requests->transformers) (3.4)\n",
      "Requirement already satisfied: urllib3<3,>=1.21.1 in /opt/conda/lib/python3.11/site-packages (from requests->transformers) (2.0.7)\n",
      "Requirement already satisfied: certifi>=2017.4.17 in /opt/conda/lib/python3.11/site-packages (from requests->transformers) (2023.7.22)\n",
      "Downloading transformers-4.47.0-py3-none-any.whl (10.1 MB)\n",
      "\u001b[2K   \u001b[90m━━━━━━━━━━━━━━━━━━━━━━━━━━━━━━━━━━━━━━━━\u001b[0m \u001b[32m10.1/10.1 MB\u001b[0m \u001b[31m11.1 MB/s\u001b[0m eta \u001b[36m0:00:00\u001b[0m00:01\u001b[0m0:01\u001b[0m\n",
      "\u001b[?25hDownloading huggingface_hub-0.26.5-py3-none-any.whl (447 kB)\n",
      "\u001b[2K   \u001b[90m━━━━━━━━━━━━━━━━━━━━━━━━━━━━━━━━━━━━━━━━\u001b[0m \u001b[32m447.8/447.8 kB\u001b[0m \u001b[31m8.8 MB/s\u001b[0m eta \u001b[36m0:00:00\u001b[0mta \u001b[36m0:00:01\u001b[0m\n",
      "\u001b[?25hDownloading regex-2024.11.6-cp311-cp311-manylinux_2_17_aarch64.manylinux2014_aarch64.whl (792 kB)\n",
      "\u001b[2K   \u001b[90m━━━━━━━━━━━━━━━━━━━━━━━━━━━━━━━━━━━━━━━━\u001b[0m \u001b[32m792.1/792.1 kB\u001b[0m \u001b[31m10.9 MB/s\u001b[0m eta \u001b[36m0:00:00\u001b[0m00:01\u001b[0m00:01\u001b[0m\n",
      "\u001b[?25hUsing cached safetensors-0.4.5-cp311-cp311-manylinux_2_17_aarch64.manylinux2014_aarch64.whl (441 kB)\n",
      "Downloading tokenizers-0.21.0-cp39-abi3-manylinux_2_17_aarch64.manylinux2014_aarch64.whl (2.9 MB)\n",
      "\u001b[2K   \u001b[90m━━━━━━━━━━━━━━━━━━━━━━━━━━━━━━━━━━━━━━━━\u001b[0m \u001b[32m2.9/2.9 MB\u001b[0m \u001b[31m11.3 MB/s\u001b[0m eta \u001b[36m0:00:00\u001b[0m00:01\u001b[0m0:01\u001b[0mm\n",
      "\u001b[?25hUsing cached filelock-3.16.1-py3-none-any.whl (16 kB)\n",
      "Installing collected packages: safetensors, regex, filelock, huggingface-hub, tokenizers, transformers\n",
      "Successfully installed filelock-3.16.1 huggingface-hub-0.26.5 regex-2024.11.6 safetensors-0.4.5 tokenizers-0.21.0 transformers-4.47.0\n"
     ]
    },
    {
     "data": {
      "application/vnd.jupyter.widget-view+json": {
       "model_id": "6dfeca6e175546648b9d6443ef52efcb",
       "version_major": 2,
       "version_minor": 0
      },
      "text/plain": [
       "tokenizer_config.json:   0%|          | 0.00/49.0 [00:00<?, ?B/s]"
      ]
     },
     "metadata": {},
     "output_type": "display_data"
    },
    {
     "data": {
      "application/vnd.jupyter.widget-view+json": {
       "model_id": "383e9a72ed4147ea9ea6a6641e127071",
       "version_major": 2,
       "version_minor": 0
      },
      "text/plain": [
       "vocab.txt:   0%|          | 0.00/996k [00:00<?, ?B/s]"
      ]
     },
     "metadata": {},
     "output_type": "display_data"
    },
    {
     "data": {
      "application/vnd.jupyter.widget-view+json": {
       "model_id": "19fc9ab78a6b448ba4d8121373628bb7",
       "version_major": 2,
       "version_minor": 0
      },
      "text/plain": [
       "tokenizer.json:   0%|          | 0.00/1.96M [00:00<?, ?B/s]"
      ]
     },
     "metadata": {},
     "output_type": "display_data"
    },
    {
     "data": {
      "application/vnd.jupyter.widget-view+json": {
       "model_id": "ff8ac1f5e65545c7835948d266aa5373",
       "version_major": 2,
       "version_minor": 0
      },
      "text/plain": [
       "config.json:   0%|          | 0.00/625 [00:00<?, ?B/s]"
      ]
     },
     "metadata": {},
     "output_type": "display_data"
    },
    {
     "name": "stderr",
     "output_type": "stream",
     "text": [
      "Token indices sequence length is longer than the specified maximum sequence length for this model (980 > 512). Running this sequence through the model will result in indexing errors\n"
     ]
    },
    {
     "name": "stdout",
     "output_type": "stream",
     "text": [
      "['요', '##즘', '건', '##강', '##한', '##가', '##요', '##네', '건', '##강', '##해', '##요', '어', '##디', '##를', '다', '##쳤', '##어', '##요', '무', '##릎', '##이', '까', '##졌', '##어', '##요', '언', '##제', '다', '##쳤', '##어', '##요', '한', '일', '##주', '##일', '전', '##이', '##요', '언', '##제', '##부터', '즐', '##겁', '##다고', '못', '느', '##꼈', '##어', '##요', '아', '##빠', '##랑', '같이', '살', '때', '##부터', '##요', '최', '##근', '##에', '짜', '##증', '##이나', '화', '##가', '난', '적', '있어', '##요', '아', '##니', '##요', '그', '##런', '적', '없', '##어', '##요', '그', '##럼', '짜', '##증', '##이나', '화', '##가', '나', '##면', '어', '##떻', '##게', '하', '##면', '마', '##음', '##이', '풀', '##려', '##요', '그', '##냥', '동', '##생', '##이', '##랑', '같이', '놀', '##거나', '음악', '들', '##으면', '좀', '마', '##음', '##이', '편', '##안', '##해', '##요', '몇', '시', '##에', '자', '##고', '일', '##어', '##나', '##요', '11', '##시', '##에', '자', '##서', '7', '##시', '##에', '일', '##어', '##나', '##요', '아', '##침', '##에', '일', '##어', '##났', '##을', '때', '몸', '상', '##태', '##는', '어', '##때', '##요', '그', '##냥', '계속', '졸', '##려', '##요', '아', '##빠', '##가', '화', '많이', '##내는', '표', '##정을', '짓', '##는다', '##고', '했', '##는데', '그', '##런', '이', '##유', '##가', '있는', '것', '같', '##아', '##요', '그', '##냥', '자', '##기가', '화', '##나', '##면', '저', '##희', '##한', '##테', '화', '##풀', '##이', '해', '##요', '그', '표', '##정을', '지', '##을', '때', '기', '##분', '##이', '어', '##때', '##요', '슬', '##프', '##기도', '하고', '무', '##섭', '##기도', '해', '##요', '남', '##동', '##생', '##이', '있다고', '했', '##는데', '사', '##이가', '어', '##때', '##요', '동', '##생', '##이', '##랑', '잘', '지', '##내', '##고', '있어', '##요', '아버지', '##가', '동', '##생', '##이', '##랑', '차', '##별', '##하는', '것', '같', '##아', '##요', '아', '##니', '##요', '딱', '##히', '차', '##별', '##하지', '않는', '거', '같', '##아', '##요', '친', '##구', '##들이', '##랑', '##은', '주로', '몇', '명', '##이', '놀', '##아', '##요', '아', '##네', '명', '##이', '##서', '다', '##섯', '명', '정도', '같이', '노', '##는', '거', '같', '##아', '##요', '담', '##임', '선', '##생', '##님', '좋', '##아', '##해', '##요', '싫', '##어', '##해', '##요', '담', '##임', '선', '##생', '##님', '착', '##하고', '좋', '##아', '##해', '##요', '제', '##가', '가장', '큰', '걱', '##정이', '있', '##나', '##요', '아', '##빠', '##요', '아', '##빠', '##가', '걱', '##정', '##되는', '이', '##유', '##가', '뭐', '##예', '##요', '저', '##랑', '동', '##생', '그', '##만', '때', '##렸', '##으면', '좋', '##겠', '##어', '##요', '요', '##즘', '행', '##복', '##하다', '##고', '느', '##껴', '##요', '아', '##니', '##요', '이', '##유', '##가', '뭐', '##예', '##요', '아', '##빠', '때문에', '##요', '꿈', '##꾸', '##는', '미', '##래', '##가', '있을', '##까', '##요', '과', '##목', '한', '가', '##정을', '꾸', '##리고', '대', '##기', '##업', '##에', '취', '##업', '##하고', '싶', '##어', '##요', '이', '##유', '##가', '뭐', '##예', '##요', '야', '돈', '##도', '좀', '벌', '##고', '가', '##족', '##이', '##랑', '사', '##이', '##좋', '##게', '지', '##내', '##고', '싶', '##어', '##요', '아', '##빠', '##가', '잘', '챙', '##겨', '주', '##나', '##요', '평', '##소', '##에는', '잘', '챙', '##겨', '줘', '##요', '인', '##터', '##넷', '##이나', '핸', '##드', '##폰', '##은', '하', '##루', '##에', '몇', '시', '##간', '정도', '해', '##요', '6', '##시간', '##에서', '7', '##시간', '정도', '해', '##서', '아', '##빠', '##가', '맨', '##날', '그', '##만', '##하라', '##고', '해', '##요', '아', '##빠', '##는', '선', '##생', '##님', '때문에', '슬', '##프', '##거나', '화', '##가', '난', '적', '##이', '있어', '##요', '아', '##빠', '##가', '화', '##내', '##면', '좀', '슬', '##퍼', '##요', '아', '##빠', '##의', '어떤', '말', '##이나', '행', '##동', '##이', '슬', '##퍼', '##요', '저', '##랑', '동', '##생', '##을', '계속', '때', '##려', '##서', '평', '##소', '##에', '아', '##빠', '##가', '얼', '##마', '##나', '자', '##주', '때', '##려', '##요', '달', '##에', '세', '번', '정도', '##는', '그', '##래', '##요', '눈', '##에', '보', '##이는', '걸', '막', '던', '##지고', '아', '##무', '곳', '##이나', '막', '때', '##려', '##요', '아', '##빠', '##가', '때', '##리', '##시', '##는', '이', '##유', '##가', '뭐', '##라고', '생', '##각', '##해', '##요', '그', '##냥', '막', '갑', '##자', '##기', '한', '##숨', '쉬', '##시', '##면서', '술', '드', '##시', '##다가', '또', '화', '##내', '##고', '욕', '##하다', '##가', '때', '##리', '##세', '##요', '이', '##유', '##는', '잘', '모', '##르', '##겠', '##어', '##요', '아', '##빠', '##한', '##테', '맞', '##아', '##서', '얼', '##마', '##나', '다', '##쳤', '##어', '##요', '배', '아', '##파', '##서', '병', '##원', '##도', '갔', '##고', '멍', '##도', '들', '##고', '병', '##원', '갔', '##을', '때', '입', '##원', '##도', '했', '##었', '##어', '##요', '누', '##가', '소', '##중', '##한', '부', '##위를', '만', '##지', '##거나', '보', '##여', '달', '##라고', '한', '적', '있어', '##요', '아', '##니', '##요', '그', '##런', '적', '##은', '없', '##었', '##어', '##요', '집', '##에서', '어', '##른', '##들이', '소', '##리', '지', '##르', '##면서', '싸', '##우', '##는', '걸', '듣', '##거나', '본', '적', '있어', '##요', '아', '##빠', '##가', '술', '먹', '##다가', '그', '##냥', '혼', '##자', '소', '##리', '지', '##르고', '막', '그', '##래', '##요', '아', '##빠', '##가', '그', '##럴', '때', '집', '##에', '나', '##와', '##서', '있어', '##야', '했', '##던', '적', '있어', '##요', '아', '##니', '##요', '따', '##로', '나', '##갔', '##던', '적', '##은', '없', '##어', '##요', '이런', '일', '때문에', '경', '##찰', '##이나', '다른', '사람이', '온', '적', '##이', '있어', '##요', '##네', '신', '##고', '##도', '했', '##었', '##어', '##요', '그', '##러', '##면', '아', '##빠', '##가', '좀', '당', '##분', '##간', '화', '##를', '덜', '내', '##고', '근', '##데', '그', '##러', '##다가', '또', '예', '##전', '##처럼', '다시', '똑', '##같', '##이', '돌', '##아', '##가', '##긴', '해', '##요', '친', '##구', '##들이', '자', '##주', '놀', '##리', '##거나', '괴', '##롭', '##힌', '##다고', '느', '##낀', '적', '있어', '##요', '아', '##니', '##요', '어', '##떨', '때', '마', '##음', '##이', '복', '##잡', '##하', '##거나', '힘', '##들어', '##요', '아', '##빠', '##가', '화', '##내', '##면', '마', '##음', '##이', '좀', '슬', '##프', '##고', '그', '##래', '##요', '그', '##럴', '때', '괴', '##로', '##워', '##서', '죽', '##고', '싶', '##다는', '생', '##각', '##을', '한', '적', '있어', '##요', '아', '##니', '##요', '죽', '##으면', '동', '##생', '##이', '혼', '##자', '##나', '##요', '제', '##가', '지', '##켜', '줘', '##야', '해', '##요', '잘', '때', '어떤', '꿈', '##을', '꿔', '##요', '모', '##르', '##겠', '##어', '##요', '꿈', '##은', '꾸', '##는', '거', '같은', '##데', '기', '##억', '안', '##나', '##요', '꿈', '##을', '꾸', '##고', '일', '##어', '##나', '##면', '몸', '상', '##태', '##는', '어', '##때', '##요', '그', '##냥', '평', '##소', '##랑', '똑', '##같', '##이', '졸', '##려', '##요', '아', '##빠', '##한', '##테', '말', '##도', '없이', '집', '##에서', '오', '##랫', '##동안', '나', '##온', '적', '있어', '##요', '안', '##녕', '그', '##런', '적', '없', '##었', '##어', '##요']\n",
      "[101, 9599, 119229, 8865, 47181, 11102, 11287, 48549, 77884, 8865, 47181, 14523, 48549, 9546, 48446, 11513, 9056, 119266, 12965, 48549, 9294, 118905, 10739, 8939, 119210, 12965, 48549, 9548, 17730, 9056, 119266, 12965, 48549, 9954, 9641, 16323, 18392, 9665, 10739, 48549, 9548, 17730, 17655, 9703, 118626, 85634, 9290, 9041, 118685, 12965, 48549, 9519, 119008, 62200, 38401, 9408, 9137, 17655, 48549, 9764, 50248, 10530, 9715, 119230, 43739, 9993, 11287, 8984, 9664, 45893, 48549, 9519, 25503, 48549, 8924, 56710, 9664, 9555, 12965, 48549, 8924, 118866, 9715, 119230, 43739, 9993, 11287, 8982, 14867, 9546, 118837, 14153, 9952, 14867, 9246, 32158, 10739, 9937, 26737, 48549, 8924, 118729, 9095, 24017, 10739, 62200, 38401, 9025, 55534, 74293, 9117, 80046, 9682, 9246, 32158, 10739, 9924, 34951, 14523, 48549, 9282, 9485, 10530, 9651, 11664, 9641, 12965, 16439, 48549, 10193, 14040, 10530, 9651, 12424, 128, 14040, 10530, 9641, 12965, 16439, 48549, 9519, 119285, 10530, 9641, 12965, 118718, 10622, 9137, 9288, 9414, 83616, 11018, 9546, 118832, 48549, 8924, 118729, 77039, 9681, 26737, 48549, 9519, 119008, 11287, 9993, 47058, 87444, 9934, 40818, 9712, 40410, 11664, 9965, 41850, 8924, 56710, 9638, 42815, 11287, 13767, 8870, 8855, 16985, 48549, 8924, 118729, 9651, 47869, 9993, 16439, 14867, 9663, 49515, 11102, 119351, 9993, 119407, 10739, 9960, 48549, 8924, 9934, 40818, 9706, 10622, 9137, 8932, 37712, 10739, 9546, 118832, 48549, 9479, 28396, 27792, 32487, 9294, 119041, 27792, 9960, 48549, 8987, 18778, 24017, 10739, 70067, 9965, 41850, 9405, 57362, 9546, 118832, 48549, 9095, 24017, 10739, 62200, 9654, 9706, 31605, 11664, 45893, 48549, 66324, 11287, 9095, 24017, 10739, 62200, 9730, 61844, 12178, 8870, 8855, 16985, 48549, 9519, 25503, 48549, 9131, 18108, 9730, 61844, 23665, 55698, 8863, 8855, 16985, 48549, 9781, 17196, 20173, 62200, 10892, 41195, 9282, 9281, 10739, 9025, 16985, 48549, 9519, 77884, 9281, 10739, 12424, 9056, 103906, 9281, 107657, 38401, 9022, 11018, 8863, 8855, 16985, 48549, 9064, 36240, 9428, 24017, 108578, 9685, 16985, 14523, 48549, 9490, 12965, 14523, 48549, 9064, 36240, 9428, 24017, 108578, 9731, 12453, 9685, 16985, 14523, 48549, 9672, 11287, 22224, 9835, 8864, 98489, 9647, 16439, 48549, 9519, 119008, 48549, 9519, 119008, 11287, 8864, 16605, 24683, 9638, 42815, 11287, 9303, 96279, 48549, 9663, 62200, 9095, 24017, 8924, 19105, 9137, 118881, 80046, 9685, 118632, 12965, 48549, 9599, 119229, 9966, 70915, 32679, 11664, 9041, 118684, 48549, 9519, 25503, 48549, 9638, 42815, 11287, 9303, 96279, 48549, 9519, 119008, 20729, 48549, 8965, 118694, 11018, 9309, 37388, 11287, 68943, 118671, 48549, 8898, 68055, 9954, 8843, 40818, 8962, 62211, 9069, 12310, 26784, 10530, 9773, 26784, 12453, 9495, 12965, 48549, 9638, 42815, 11287, 9303, 96279, 48549, 9538, 9089, 12092, 9682, 9339, 11664, 8843, 52560, 10739, 62200, 9405, 10739, 119214, 14153, 9706, 31605, 11664, 9495, 12965, 48549, 9519, 119008, 11287, 9654, 9743, 89045, 9689, 16439, 48549, 9926, 22333, 15303, 9654, 9743, 89045, 9695, 48549, 9640, 21876, 82881, 43739, 9962, 15001, 119401, 10892, 9952, 35866, 10530, 9282, 9485, 18784, 107657, 9960, 48549, 127, 100699, 11489, 128, 100699, 107657, 9960, 12424, 9519, 119008, 11287, 9260, 41919, 8924, 19105, 101656, 11664, 9960, 48549, 9519, 119008, 11018, 9428, 24017, 108578, 20729, 9479, 28396, 55534, 9993, 11287, 8984, 9664, 10739, 45893, 48549, 9519, 119008, 11287, 9993, 31605, 14867, 9682, 9479, 68984, 48549, 9519, 119008, 10459, 55910, 9251, 43739, 9966, 18778, 10739, 9479, 68984, 48549, 9663, 62200, 9095, 24017, 10622, 77039, 9137, 26737, 12424, 9926, 22333, 10530, 9519, 119008, 11287, 9551, 23811, 16439, 9651, 16323, 9137, 26737, 48549, 9061, 10530, 9435, 9338, 107657, 11018, 8924, 37388, 48549, 9034, 10530, 9356, 31728, 8867, 9247, 9076, 68833, 9519, 32537, 8895, 43739, 9247, 9137, 26737, 48549, 9519, 119008, 11287, 9137, 12692, 14040, 11018, 9638, 42815, 11287, 9303, 59894, 9420, 66540, 14523, 48549, 8924, 118729, 9247, 8849, 13764, 12310, 9954, 119065, 9469, 14040, 30936, 9463, 9113, 14040, 80244, 9144, 9993, 31605, 11664, 9600, 32679, 11287, 9137, 12692, 24982, 48549, 9638, 42815, 11018, 9654, 9283, 31401, 118632, 12965, 48549, 9519, 119008, 11102, 119351, 9256, 16985, 12424, 9551, 23811, 16439, 9056, 119266, 12965, 48549, 9330, 9519, 46150, 12424, 9355, 14279, 12092, 8852, 11664, 9271, 12092, 9117, 11664, 9355, 14279, 8852, 10622, 9137, 9645, 14279, 12092, 9965, 119138, 12965, 48549, 9032, 11287, 9448, 41693, 11102, 9365, 31166, 9248, 12508, 55534, 9356, 29935, 9061, 59894, 9954, 9664, 45893, 48549, 9519, 25503, 48549, 8924, 56710, 9664, 10892, 9555, 119138, 12965, 48549, 9711, 11489, 9546, 37819, 20173, 9448, 12692, 9706, 31401, 30936, 9496, 27355, 11018, 8867, 9116, 55534, 9358, 9664, 45893, 48549, 9519, 119008, 11287, 9463, 9266, 80244, 8924, 118729, 9987, 13764, 9448, 12692, 9706, 81220, 9247, 8924, 37388, 48549, 9519, 119008, 11287, 8924, 118865, 9137, 9711, 10530, 8982, 12638, 12424, 45893, 21711, 9965, 23990, 9664, 45893, 48549, 9519, 25503, 48549, 9130, 11261, 8982, 118613, 23990, 9664, 10892, 9555, 12965, 48549, 80956, 9641, 20729, 8885, 99118, 43739, 19709, 97802, 9582, 9664, 10739, 45893, 48549, 77884, 9487, 11664, 12092, 9965, 119138, 12965, 48549, 8924, 30873, 14867, 9519, 119008, 11287, 9682, 9067, 37712, 18784, 9993, 11513, 9077, 8996, 11664, 8926, 28911, 8924, 30873, 80244, 9144, 9576, 16617, 92383, 25805, 9145, 118615, 10739, 9091, 16985, 11287, 70221, 9960, 48549, 9781, 17196, 20173, 9651, 16323, 9025, 12692, 55534, 8905, 118884, 119469, 85634, 9041, 118711, 9664, 45893, 48549, 9519, 25503, 48549, 9546, 118836, 9137, 9246, 32158, 10739, 9357, 119199, 35506, 55534, 10028, 93200, 48549, 9519, 119008, 11287, 9993, 31605, 14867, 9246, 32158, 10739, 9682, 9479, 28396, 11664, 8924, 37388, 48549, 8924, 118865, 9137, 8905, 11261, 69592, 12424, 9690, 11664, 9495, 82034, 9420, 66540, 10622, 9954, 9664, 45893, 48549, 9519, 25503, 48549, 9690, 80046, 9095, 24017, 10739, 9987, 13764, 16439, 48549, 9672, 11287, 9706, 100110, 9695, 21711, 9960, 48549, 9654, 9137, 55910, 8965, 10622, 8966, 48549, 9283, 31401, 118632, 12965, 48549, 8965, 10892, 8962, 11018, 8863, 18589, 28911, 8932, 91837, 9521, 16439, 48549, 8965, 10622, 8962, 11664, 9641, 12965, 16439, 14867, 9288, 9414, 83616, 11018, 9546, 118832, 48549, 8924, 118729, 9926, 22333, 62200, 9145, 118615, 10739, 9681, 26737, 48549, 9519, 119008, 11102, 119351, 9251, 12092, 73610, 9711, 11489, 9580, 118859, 93867, 8982, 37093, 9664, 45893, 48549, 9521, 118741, 8924, 56710, 9664, 9555, 119138, 12965, 48549, 102]\n",
      "[CLS] 요즘 건강한가요네 건강해요 어디를 다쳤어요 무릎이 까졌어요 언제 다쳤어요 한 일주일 전이요 언제부터 즐겁다고 못 느꼈어요 아빠랑 같이 살 때부터요 최근에 짜증이나 화가 난 적 있어요 아니요 그런 적 없어요 그럼 짜증이나 화가 나면 어떻게 하면 마음이 풀려요 그냥 동생이랑 같이 놀거나 음악 들으면 좀 마음이 편안해요 몇 시에 자고 일어나요 11시에 자서 7시에 일어나요 아침에 일어났을 때 몸 상태는 어때요 그냥 계속 졸려요 아빠가 화 많이내는 표정을 짓는다고 했는데 그런 이유가 있는 것 같아요 그냥 자기가 화나면 저희한테 화풀이 해요 그 표정을 지을 때 기분이 어때요 슬프기도 하고 무섭기도 해요 남동생이 있다고 했는데 사이가 어때요 동생이랑 잘 지내고 있어요 아버지가 동생이랑 차별하는 것 같아요 아니요 딱히 차별하지 않는 거 같아요 친구들이랑은 주로 몇 명이 놀아요 아네 명이서 다섯 명 정도 같이 노는 거 같아요 담임 선생님 좋아해요 싫어해요 담임 선생님 착하고 좋아해요 제가 가장 큰 걱정이 있나요 아빠요 아빠가 걱정되는 이유가 뭐예요 저랑 동생 그만 때렸으면 좋겠어요 요즘 행복하다고 느껴요 아니요 이유가 뭐예요 아빠 때문에요 꿈꾸는 미래가 있을까요 과목 한 가정을 꾸리고 대기업에 취업하고 싶어요 이유가 뭐예요 야 돈도 좀 벌고 가족이랑 사이좋게 지내고 싶어요 아빠가 잘 챙겨 주나요 평소에는 잘 챙겨 줘요 인터넷이나 핸드폰은 하루에 몇 시간 정도 해요 6시간에서 7시간 정도 해서 아빠가 맨날 그만하라고 해요 아빠는 선생님 때문에 슬프거나 화가 난 적이 있어요 아빠가 화내면 좀 슬퍼요 아빠의 어떤 말이나 행동이 슬퍼요 저랑 동생을 계속 때려서 평소에 아빠가 얼마나 자주 때려요 달에 세 번 정도는 그래요 눈에 보이는 걸 막 던지고 아무 곳이나 막 때려요 아빠가 때리시는 이유가 뭐라고 생각해요 그냥 막 갑자기 한숨 쉬시면서 술 드시다가 또 화내고 욕하다가 때리세요 이유는 잘 모르겠어요 아빠한테 맞아서 얼마나 다쳤어요 배 아파서 병원도 갔고 멍도 들고 병원 갔을 때 입원도 했었어요 누가 소중한 부위를 만지거나 보여 달라고 한 적 있어요 아니요 그런 적은 없었어요 집에서 어른들이 소리 지르면서 싸우는 걸 듣거나 본 적 있어요 아빠가 술 먹다가 그냥 혼자 소리 지르고 막 그래요 아빠가 그럴 때 집에 나와서 있어야 했던 적 있어요 아니요 따로 나갔던 적은 없어요 이런 일 때문에 경찰이나 다른 사람이 온 적이 있어요네 신고도 했었어요 그러면 아빠가 좀 당분간 화를 덜 내고 근데 그러다가 또 예전처럼 다시 똑같이 돌아가긴 해요 친구들이 자주 놀리거나 괴롭힌다고 느낀 적 있어요 아니요 어떨 때 마음이 복잡하거나 힘들어요 아빠가 화내면 마음이 좀 슬프고 그래요 그럴 때 괴로워서 죽고 싶다는 생각을 한 적 있어요 아니요 죽으면 동생이 혼자나요 제가 지켜 줘야 해요 잘 때 어떤 꿈을 꿔요 모르겠어요 꿈은 꾸는 거 같은데 기억 안나요 꿈을 꾸고 일어나면 몸 상태는 어때요 그냥 평소랑 똑같이 졸려요 아빠한테 말도 없이 집에서 오랫동안 나온 적 있어요 안녕 그런 적 없었어요 [SEP]\n"
     ]
    }
   ],
   "source": [
    "!pip install transformers\n",
    "\n",
    "# Bert 다국어 버전의 토큰나이저 활용\n",
    "from transformers import BertTokenizer\n",
    "tokenizer = BertTokenizer.from_pretrained('bert-base-multilingual-cased')\n",
    "print(tokenizer.tokenize(audio_to_text))\n",
    "print(tokenizer.encode(audio_to_text))\n",
    "print(tokenizer.decode(tokenizer.encode(audio_to_text)))"
   ]
  },
  {
   "cell_type": "markdown",
   "metadata": {},
   "source": [
    "오늘은 여기까지..."
   ]
  }
 ],
 "metadata": {
  "kernelspec": {
   "display_name": "Python 3 (ipykernel)",
   "language": "python",
   "name": "python3"
  },
  "language_info": {
   "codemirror_mode": {
    "name": "ipython",
    "version": 3
   },
   "file_extension": ".py",
   "mimetype": "text/x-python",
   "name": "python",
   "nbconvert_exporter": "python",
   "pygments_lexer": "ipython3",
   "version": "3.11.6"
  }
 },
 "nbformat": 4,
 "nbformat_minor": 2
}
